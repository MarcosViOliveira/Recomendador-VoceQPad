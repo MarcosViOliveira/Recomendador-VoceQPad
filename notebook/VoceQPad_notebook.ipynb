{
 "cells": [
  {
   "cell_type": "markdown",
   "id": "cee8bf05",
   "metadata": {},
   "source": [
    "# Bibliotecas"
   ]
  },
  {
   "cell_type": "code",
   "execution_count": 57,
   "id": "d5623283",
   "metadata": {},
   "outputs": [],
   "source": [
    "import pandas as pd\n",
    "import warnings\n",
    "import numpy as np\n",
    "warnings.filterwarnings(\"ignore\")\n",
    "import networkx as nx\n",
    "from collections import Counter\n",
    "import matplotlib.pyplot as plt\n",
    "from itertools import permutations\n",
    "from itertools import combinations\n",
    "import gc"
   ]
  },
  {
   "cell_type": "markdown",
   "id": "bb2b9a9e",
   "metadata": {},
   "source": [
    "# Importação do DataSet"
   ]
  },
  {
   "cell_type": "code",
   "execution_count": 2,
   "id": "6817592d",
   "metadata": {},
   "outputs": [],
   "source": [
    "dataset = '../data/Base VoceQPad.xlsx'\n",
    "base = pd.read_excel(dataset)\n",
    "pd.set_option('display.max_columns', None)\n",
    "pd.set_option('display.max_colwidth', None)"
   ]
  },
  {
   "cell_type": "markdown",
   "id": "7cbe4911",
   "metadata": {},
   "source": [
    "# Tratamento dos Dados"
   ]
  },
  {
   "cell_type": "code",
   "execution_count": 3,
   "id": "cc871ce5",
   "metadata": {},
   "outputs": [],
   "source": [
    "# TRATAMENTO DO DATAFRAME BASE\n",
    "\n",
    "# mudando de objeto para data\n",
    "base['data_compra'] = pd.to_datetime(base['data_compra'])\n",
    "base['usuário_data-cadastro'] = pd.to_datetime(base['usuário_data-cadastro'])\n",
    "\n",
    "# tipo de dados mudado de objeto para categoria de forma que ocupe menos espaço na memória\n",
    "base['modalidade_compra'] = base['modalidade_compra'].astype('category')\n",
    "base['plataforma-compra'] = base['plataforma-compra'].astype('category')\n",
    "\n",
    "# retirando os pedidos com 100% de desconto, como mencionado an dúvida 3 do projeto\n",
    "base = base.loc[(base['valor-pedido'] + base['valor-desconto'] != 0)]\n",
    "base = base.loc[(base['valor-pedido'] + base['valor-desconto']) > 0]\n",
    "\n",
    "# alteração de tipos de colunas\n",
    "base['qtde_itens'] = base['qtde_itens'].astype('int')\n",
    "base['dist-pedido'] = pd.to_numeric(base['dist-pedido'], errors='coerce')\n",
    "base['dist-pedido'] = base['dist-pedido'].fillna(0)\n",
    "\n",
    "# limitação de casas decimais\n",
    "base['dist-pedido'] = base['dist-pedido'].round(3)\n",
    "\n",
    "# Tirando possíveis testes, como mencionado na dúvida 4 do projeto\n",
    "base = base.loc[base['dist-pedido'] < 14.001]\n",
    "\n",
    "base['dias-desde-compra-anterior'].replace('-', '0', inplace=True)\n",
    "base['dias-desde-compra-anterior'] = base['dias-desde-compra-anterior'].astype(int)\n",
    "\n",
    "base['itens_compra'] = base['itens_compra'].apply(lambda x: x.split(' | '))\n",
    "base = base.explode('itens_compra')\n",
    "base = base.reset_index(drop=True)\n",
    "base['quantidade'] = base['itens_compra'].apply(lambda x: x[-1])\n",
    "base['itens_compra'] = base['itens_compra'].str.replace(r'\\s*x\\d+', '')\n",
    "\n",
    "base = base.rename({'id_usuário': 'user_id', 'itens_compra': 'item_id', 'data_compra': 'Date'}, axis = 1)"
   ]
  },
  {
   "cell_type": "code",
   "execution_count": 4,
   "id": "d57c8260",
   "metadata": {},
   "outputs": [
    {
     "data": {
      "text/html": [
       "<div>\n",
       "<style scoped>\n",
       "    .dataframe tbody tr th:only-of-type {\n",
       "        vertical-align: middle;\n",
       "    }\n",
       "\n",
       "    .dataframe tbody tr th {\n",
       "        vertical-align: top;\n",
       "    }\n",
       "\n",
       "    .dataframe thead th {\n",
       "        text-align: right;\n",
       "    }\n",
       "</style>\n",
       "<table border=\"1\" class=\"dataframe\">\n",
       "  <thead>\n",
       "    <tr style=\"text-align: right;\">\n",
       "      <th></th>\n",
       "      <th>user_id</th>\n",
       "    </tr>\n",
       "  </thead>\n",
       "  <tbody>\n",
       "    <tr>\n",
       "      <th>0</th>\n",
       "      <td>452249</td>\n",
       "    </tr>\n",
       "    <tr>\n",
       "      <th>1</th>\n",
       "      <td>660888</td>\n",
       "    </tr>\n",
       "    <tr>\n",
       "      <th>2</th>\n",
       "      <td>651393</td>\n",
       "    </tr>\n",
       "    <tr>\n",
       "      <th>3</th>\n",
       "      <td>660894</td>\n",
       "    </tr>\n",
       "    <tr>\n",
       "      <th>4</th>\n",
       "      <td>486041</td>\n",
       "    </tr>\n",
       "    <tr>\n",
       "      <th>...</th>\n",
       "      <td>...</td>\n",
       "    </tr>\n",
       "    <tr>\n",
       "      <th>87443</th>\n",
       "      <td>1062780</td>\n",
       "    </tr>\n",
       "    <tr>\n",
       "      <th>87444</th>\n",
       "      <td>1062782</td>\n",
       "    </tr>\n",
       "    <tr>\n",
       "      <th>87445</th>\n",
       "      <td>1062784</td>\n",
       "    </tr>\n",
       "    <tr>\n",
       "      <th>87446</th>\n",
       "      <td>1062792</td>\n",
       "    </tr>\n",
       "    <tr>\n",
       "      <th>87447</th>\n",
       "      <td>1042570</td>\n",
       "    </tr>\n",
       "  </tbody>\n",
       "</table>\n",
       "<p>87448 rows × 1 columns</p>\n",
       "</div>"
      ],
      "text/plain": [
       "       user_id\n",
       "0       452249\n",
       "1       660888\n",
       "2       651393\n",
       "3       660894\n",
       "4       486041\n",
       "...        ...\n",
       "87443  1062780\n",
       "87444  1062782\n",
       "87445  1062784\n",
       "87446  1062792\n",
       "87447  1042570\n",
       "\n",
       "[87448 rows x 1 columns]"
      ]
     },
     "execution_count": 4,
     "metadata": {},
     "output_type": "execute_result"
    }
   ],
   "source": [
    "user_ids = base['user_id'].unique()\n",
    "pd.DataFrame(user_ids, columns= ['user_id'])"
   ]
  },
  {
   "cell_type": "code",
   "execution_count": 5,
   "id": "d7c15c9b",
   "metadata": {},
   "outputs": [],
   "source": [
    "def base_selection():\n",
    "    print(base['id_aplicativo'].unique())\n",
    "    # app_input = input(\"Digite o aplicativo escolhido: \")\n",
    "    app_input = 37\n",
    "    \n",
    "    try:\n",
    "        app = int(app_input)\n",
    "        \n",
    "        if app not in base['id_aplicativo'].unique():\n",
    "            print(\"Escolha inválida. Por favor, digite um aplicativo válido.\")\n",
    "            return None  \n",
    "    except ValueError:\n",
    "        print(\"Entrada inválida. Por favor, digite um número inteiro válido.\")\n",
    "        return None  \n",
    "    \n",
    "    df = base.loc[base['id_aplicativo'] == app]\n",
    "    df = df[['id_aplicativo', 'id_compra', 'Date', 'user_id', 'quantidade', 'item_id']]\n",
    "\n",
    "    return df\n",
    "\n",
    "def base_tratatives(df):\n",
    "    NumProduto = pd.DataFrame(df.groupby(['user_id'])['item_id'].value_counts())\n",
    "    NumProduto = NumProduto.rename(columns={'item_id': 'FreqItem'})\n",
    "    NumProduto = NumProduto.reset_index(level=['user_id', 'item_id'])\n",
    "    totalFreq = NumProduto.groupby(['user_id'])[['FreqItem']].sum()\n",
    "    totalFreq = totalFreq.reset_index().rename({'FreqItem': 'TotalPeriodo'}, axis = 1)\n",
    "\n",
    "    NumProduto = NumProduto.merge(totalFreq, on = 'user_id', how = 'left')\n",
    "    NumProduto['FrequenciaItem'] = NumProduto['FreqItem']/NumProduto['TotalPeriodo']\n",
    "    NumProduto = NumProduto.query('TotalPeriodo >= 3')\n",
    "    FreqCompra = NumProduto[['user_id', 'item_id', 'FrequenciaItem']]\n",
    "    \n",
    "    dfProduto = df.copy()\n",
    "    dfProduto = dfProduto.merge(FreqCompra, on = ['user_id', 'item_id'], how = 'left')\n",
    "    dfProduto = dfProduto.dropna()\n",
    "    \n",
    "    df_covisitation = dfProduto[['user_id', 'item_id', 'FrequenciaItem']].rename({'FrequenciaItem': 'rating'}, axis = 1)\n",
    "    df_covisitation = df_covisitation.query('rating >= 0.1').reset_index(drop=True)\n",
    "    \n",
    "    user_list = df_covisitation['user_id'].unique()\n",
    "    \n",
    "    return NumProduto, totalFreq, FreqCompra, dfProduto, df_covisitation, user_list"
   ]
  },
  {
   "cell_type": "markdown",
   "id": "5b768070",
   "metadata": {},
   "source": [
    "# Modelo TOP N"
   ]
  },
  {
   "cell_type": "markdown",
   "id": "60d8dc8b",
   "metadata": {},
   "source": [
    "**Top N consumidos**: os N itens mais consumidos pelos usuários no período"
   ]
  },
  {
   "cell_type": "code",
   "execution_count": 6,
   "id": "edd1600b",
   "metadata": {},
   "outputs": [],
   "source": [
    "def recommend_top_n_consumptions(ratings:pd.DataFrame, n:int) -> pd.DataFrame:\n",
    "\n",
    "    recommendations = (\n",
    "        ratings\n",
    "        .groupby('item_id')\n",
    "        .count()['user_id']\n",
    "        .reset_index()\n",
    "        .rename({'user_id': 'score'}, axis=1)\n",
    "        .sort_values(by='score', ascending=False)\n",
    "    )\n",
    "\n",
    "    return recommendations.head(n)\n",
    "\n",
    "def recommendation_top(df_seed, df_top_consumptions): \n",
    "  df_top_recommendations = pd.DataFrame()\n",
    "  for user in df_seed['user_id']:\n",
    "    item_ids = df_top_consumptions['item_id']\n",
    "    df_temp = pd.DataFrame()\n",
    "    df_temp['recommendation'] = item_ids\n",
    "    df_temp['user_id'] = user\n",
    "    df_top_recommendations = df_top_recommendations.append(df_temp)\n",
    "  return df_top_recommendations"
   ]
  },
  {
   "cell_type": "markdown",
   "id": "c5f413af",
   "metadata": {},
   "source": [
    "# Modelo Covisitation"
   ]
  },
  {
   "cell_type": "markdown",
   "id": "6a3c591f",
   "metadata": {},
   "source": [
    "Neste notebook iremos explorar a recomendação de itens a partir de co-visitação de itens. Este tipo de recomendação é utilizada em ofertas como \"_Clientes que compraram X também compraram Y_\".\n",
    "\n",
    "Para criar o algoritmo utilizaremos a biblioteca [NetworkX](https://networkx.org/) que possibilita a criação, manipulação e estudos de estruturas em grafos.\n",
    "\n",
    "Será utilizado para os usuários que já compraram na plataforma."
   ]
  },
  {
   "cell_type": "markdown",
   "id": "ed4c43da",
   "metadata": {},
   "source": [
    "Os vizinhos de um nó do tipo `item` são os são todos os usuários que o salvaram enquanto os vizinhos de um nó do tipo `usuário` são todos os itens salvos por este usuário.\n",
    "\n",
    "Desta forma, se quisermos a construção \"_Quem viu X também viu Y_\" podemos seguir o caminho:\n",
    "\n",
    "1. Escolha do item-alvo\n",
    "2. Obtenção dos vizinhos do item-alvo (usuários que o salvaram)\n",
    "3. Vizinhos dos usuários que viram o item-alvo"
   ]
  },
  {
   "cell_type": "code",
   "execution_count": 7,
   "id": "5bee779b",
   "metadata": {},
   "outputs": [],
   "source": [
    "#Montagem dos Grafos\n",
    "\n",
    "def grafos_trained(df_train_covisitation):\n",
    "    G_train = nx.Graph()\n",
    "    G_train.add_nodes_from(df_train_covisitation['item_id'].unique(), node_type='item')\n",
    "    G_train.add_nodes_from(df_train_covisitation['user_id'].unique(), node_type='user')\n",
    "    G_train.add_weighted_edges_from(df_train_covisitation[['user_id', 'item_id', 'rating']].values)\n",
    "    \n",
    "    return G_train"
   ]
  },
  {
   "cell_type": "markdown",
   "id": "bf3eab10",
   "metadata": {},
   "source": [
    "Por fim, podemos juntar a lógica na função `recommend_neighbor_items()` que recebe como parâmetros:\n",
    "- `G`: o grafo de itens e usuários\n",
    "- `target_id`: o ID do item-alvo\n",
    "- `n`: o número de itens a serem recomendados\n",
    "\n",
    "**Nota**: uma validação inicial é feita para validar se o ID do nó é do tipo `item`"
   ]
  },
  {
   "cell_type": "code",
   "execution_count": 8,
   "id": "61bec0d4",
   "metadata": {},
   "outputs": [],
   "source": [
    "# Gerar Recomendações\n",
    "def recommend_neighbor_items_trained(G_train:nx.Graph, target_id, n=10):\n",
    "    # Validando tipo do nó\n",
    "    node_type = nx.get_node_attributes(G_train, 'node_type')[target_id]\n",
    "    if node_type != 'item':\n",
    "        raise ValueError('Node is not of item type.')\n",
    "\n",
    "    # Analisando consumo dos usuários vizinhos\n",
    "    neighbor_consumed_items = []\n",
    "    for user_id in G_train.neighbors(target_id):\n",
    "        user_consumed_items = G_train.neighbors(user_id)\n",
    "        neighbor_consumed_items +=list(user_consumed_items)\n",
    "\n",
    "    # Contabilizando itens consumidos pelos vizinhos\n",
    "    consumed_items_count = Counter(neighbor_consumed_items)\n",
    "\n",
    "    # Criando dataframe\n",
    "    df_neighbors = pd.DataFrame(zip(consumed_items_count.keys(), consumed_items_count.values()))\n",
    "    df_neighbors.columns = ['item_id', 'score']\n",
    "    df_neighbors = df_neighbors.sort_values(by='score', ascending=False).set_index('item_id')\n",
    "    \n",
    "    return df_neighbors.head(n)"
   ]
  },
  {
   "cell_type": "markdown",
   "id": "e83b97e4",
   "metadata": {},
   "source": [
    "## Divisão em Treino e Teste"
   ]
  },
  {
   "cell_type": "code",
   "execution_count": 9,
   "id": "645b8855",
   "metadata": {},
   "outputs": [],
   "source": [
    "### Versão final\n",
    "\n",
    "def test_df(df_covisitation, user_list):\n",
    "    df_test = pd.DataFrame()\n",
    "    for user in user_list:\n",
    "        df_seed = df_covisitation.query('user_id == @user').iloc[-1][['user_id', 'item_id', 'rating']]\n",
    "        df_test = df_test.append(df_seed)\n",
    "    return df_test"
   ]
  },
  {
   "cell_type": "markdown",
   "id": "7843d8f9",
   "metadata": {},
   "source": [
    "## Encontrar o Seed"
   ]
  },
  {
   "cell_type": "markdown",
   "id": "dddafbf2",
   "metadata": {},
   "source": [
    "Seed é o item que será utilizado para fazer as recomendações (neste caso, é o último item que o usuário comprou, na base de treino)"
   ]
  },
  {
   "cell_type": "code",
   "execution_count": 10,
   "id": "fc680647",
   "metadata": {},
   "outputs": [],
   "source": [
    "def item_seed(df_covisitation, user_list):\n",
    "    item_seed_df = pd.DataFrame()\n",
    "    for user in user_list:\n",
    "        user_data = df_covisitation[df_covisitation['user_id'] == user]\n",
    "        if not user_data.empty:\n",
    "            last_row = user_data.iloc[-1][['user_id', 'item_id', 'rating']]\n",
    "            item_seed_df = item_seed_df.append(last_row)\n",
    "    return item_seed_df"
   ]
  },
  {
   "cell_type": "markdown",
   "id": "9224e8db",
   "metadata": {},
   "source": [
    "## Recomendação para o Item Seed"
   ]
  },
  {
   "cell_type": "code",
   "execution_count": 14,
   "id": "6dded459",
   "metadata": {},
   "outputs": [],
   "source": [
    "def recommendation_seed(df_seed, G_train):\n",
    "    df_covisitation_recommendations = pd.DataFrame()\n",
    "    for user in df_seed['user_id']:\n",
    "        item_seed = df_seed.query('user_id == @user')['item_id'].values[0]\n",
    "        item_ids = recommend_neighbor_items_trained(G_train, item_seed, n=10).index\n",
    "        df_temp = pd.DataFrame()\n",
    "        df_temp['recommendation'] = item_ids\n",
    "        df_temp['user_id'] = user\n",
    "        df_temp['item_seed'] = item_seed\n",
    "        df_covisitation_recommendations = df_covisitation_recommendations.append(df_temp)\n",
    "        \n",
    "    return df_covisitation_recommendations"
   ]
  },
  {
   "cell_type": "markdown",
   "id": "2f3955aa",
   "metadata": {},
   "source": [
    "## Explosion (para métricas)"
   ]
  },
  {
   "cell_type": "code",
   "execution_count": 12,
   "id": "10313d02",
   "metadata": {},
   "outputs": [],
   "source": [
    "def explosion(df_covisitation_recommendation, df_test_covisitation):\n",
    "    df_covi_recommendation = df_covisitation_recommendation.groupby(['user_id', 'item_seed']).agg({'recommendation': list}).reset_index(drop=False)\n",
    "    df_covisitation_recommendation = df_covi_recommendation.merge(df_test_covisitation[['user_id', 'item_id']], on = 'user_id', how = 'left')\n",
    "    \n",
    "    explode = df_covisitation_recommendation.explode('recommendation').reset_index(drop = True)\n",
    "    explode['true'] = 0\n",
    "    for index in explode.index:\n",
    "          if explode['recommendation'][index] == explode['item_id'][index]:\n",
    "                 explode['true'][index] = 1\n",
    "    \n",
    "    df_covisitation_recommendation = explode.groupby(['user_id', 'item_seed', 'item_id']).agg({'recommendation': list, 'true': sum}).reset_index(drop=False)\n",
    "    return df_covisitation_recommendation"
   ]
  },
  {
   "cell_type": "markdown",
   "id": "f073488b",
   "metadata": {},
   "source": [
    "## Teste para um app (37)"
   ]
  },
  {
   "cell_type": "code",
   "execution_count": 14,
   "id": "e0062493",
   "metadata": {},
   "outputs": [
    {
     "name": "stdout",
     "output_type": "stream",
     "text": [
      "[ 37   5   4  80  82  29   6  62  72  50  61  21  33  89   9  73  15  49\n",
      "  57  45  69  94  68  92  78  93  39  34   8  90  66  11  18  74  99  17\n",
      "  36  47  59  75  87  46  98 104 106  31 107  96 108 112 114 116 120 122\n",
      " 118 121 119]\n"
     ]
    }
   ],
   "source": [
    "df = base_selection()"
   ]
  },
  {
   "cell_type": "code",
   "execution_count": 15,
   "id": "c17419d6",
   "metadata": {},
   "outputs": [],
   "source": [
    "NumProduto, totalFreq, FreqCompra, dfProduto, df_covisitation, user_list = base_tratatives(df)"
   ]
  },
  {
   "cell_type": "code",
   "execution_count": 16,
   "id": "2a26acb0",
   "metadata": {},
   "outputs": [],
   "source": [
    "df_test_covisitation = test_df(df_covisitation, user_list)\n",
    "df_train_covisitation = df_covisitation.drop(df_test_covisitation.index ,axis = 0)"
   ]
  },
  {
   "cell_type": "code",
   "execution_count": 17,
   "id": "3ac9c84a",
   "metadata": {},
   "outputs": [],
   "source": [
    "item_seed_df = item_seed(df_train_covisitation, user_list)"
   ]
  },
  {
   "cell_type": "code",
   "execution_count": 18,
   "id": "39e69801",
   "metadata": {},
   "outputs": [],
   "source": [
    "user_list = df_train_covisitation['user_id'].unique()\n",
    "df_seed = item_seed(df_train_covisitation, user_list)"
   ]
  },
  {
   "cell_type": "code",
   "execution_count": 19,
   "id": "226f6a8a",
   "metadata": {},
   "outputs": [
    {
     "name": "stdout",
     "output_type": "stream",
     "text": [
      "#Usuários: 14710\n",
      "#Itens: 99\n",
      "#Avaliações: 46239\n"
     ]
    }
   ],
   "source": [
    "n_users = df_train_covisitation['user_id'].nunique()\n",
    "n_items = df_train_covisitation['item_id'].nunique()\n",
    "n_ratings = df_train_covisitation[['user_id', 'item_id']].drop_duplicates().shape[0]\n",
    "\n",
    "print (f'#Usuários: {n_users}')\n",
    "print (f'#Itens: {n_items}')\n",
    "print (f'#Avaliações: {n_ratings}')"
   ]
  },
  {
   "cell_type": "code",
   "execution_count": 23,
   "id": "1d8c9d2f",
   "metadata": {},
   "outputs": [],
   "source": [
    "G_train = grafos_trained(df_train_covisitation)"
   ]
  },
  {
   "cell_type": "code",
   "execution_count": 27,
   "id": "1f6dc455",
   "metadata": {},
   "outputs": [],
   "source": [
    "df_covisitation_recommendation = recommendation_seed(df_seed, G_train)"
   ]
  },
  {
   "cell_type": "code",
   "execution_count": 29,
   "id": "b265ce0c",
   "metadata": {},
   "outputs": [],
   "source": [
    "df_covisitation_recommendation = explosion(df_covisitation_recommendation, df_test_covisitation)"
   ]
  },
  {
   "cell_type": "code",
   "execution_count": 30,
   "id": "bb56cb38",
   "metadata": {},
   "outputs": [
    {
     "name": "stdout",
     "output_type": "stream",
     "text": [
      "A Assertividade do modelo é de 65.53 %\n"
     ]
    }
   ],
   "source": [
    "assertividade = df_covisitation_recommendation['true'].sum()/df_covisitation_recommendation['true'].count()\n",
    "print(f'A Assertividade do modelo é de {assertividade*100:.2f} %')"
   ]
  },
  {
   "cell_type": "code",
   "execution_count": 31,
   "id": "6ac8ff3a",
   "metadata": {},
   "outputs": [
    {
     "name": "stdout",
     "output_type": "stream",
     "text": [
      "A Cobertura do modelo é de 81.65 % do catálogo\n"
     ]
    }
   ],
   "source": [
    "flat_recommendations = [item for sublist in df_covisitation_recommendation['recommendation'] for item in sublist]\n",
    "\n",
    "# Calculate the coverage\n",
    "cobertura = len(set(flat_recommendations)) / len(pd.DataFrame(dfProduto['item_id'].unique()))\n",
    "print(f'A Cobertura do modelo é de {cobertura*100:.2f} % do catálogo')"
   ]
  },
  {
   "cell_type": "markdown",
   "id": "3bb7af04",
   "metadata": {},
   "source": [
    "# Modelo Combinação 2 a 2"
   ]
  },
  {
   "cell_type": "code",
   "execution_count": 58,
   "id": "a83df437",
   "metadata": {},
   "outputs": [],
   "source": [
    "def create_pairs(items):\n",
    "    pairs = pd.DataFrame(combinations(items, 2), columns=['item_1', 'item_2'])\n",
    "    return pairs"
   ]
  },
  {
   "cell_type": "code",
   "execution_count": 249,
   "id": "cc78a6be",
   "metadata": {},
   "outputs": [],
   "source": [
    "# Adquirir combinações 2-a-2 de itens por usuário\n",
    "\n",
    "def combinacao(df):\n",
    "    item_combinations = (\n",
    "        df\n",
    "        .groupby('user_id').item_id\n",
    "        .apply(create_pairs)\n",
    "        .reset_index(drop=True)\n",
    "    )\n",
    "    # Calcular quantidade que itens aparecem juntos e estruturar output\n",
    "    item_combinations = item_combinations.groupby(['item_1','item_2']).size().to_frame('count').sort_values('count', ascending=False).reset_index()\n",
    "\n",
    "    return item_combinations\n",
    "\n",
    "def get_recommendation_by_bought_together(item_combinations, item, n=10):\n",
    "    item_bool = item_combinations.item_1.eq(item)\n",
    "    if item_bool.any():\n",
    "        recommendation_df = item_combinations[item_bool].set_index('item_1').head(n)\n",
    "        return recommendation_df.rename_axis('target_item').rename(columns={'item_2':'item_recommendation'})\n",
    "    else:\n",
    "       return pd.DataFrame()\n",
    "       \n",
    "       \n",
    "\n",
    "def recommendation_permutation(df_seed, item_combinations): \n",
    "  df_permutation_recommendations = pd.DataFrame()\n",
    "  for user in df_seed['user_id']:\n",
    "    item_seed = df_seed.query('user_id == @user')['item_id'].values[0]\n",
    "    item_ids = get_recommendation_by_bought_together(item_combinations, item_seed, n=10)\n",
    "    if item_ids.shape[0] != 0:\n",
    "      item_ids = item_ids.set_index('item_recommendation').index\n",
    "      df_temp = pd.DataFrame()\n",
    "      df_temp['recommendation'] = get_recommendation_by_bought_together(item_combinations, item_seed, n=10)['item_recommendation'].tolist()\n",
    "      df_temp['user_id'] = user\n",
    "      df_temp['item_seed'] = item_seed\n",
    "      df_permutation_recommendations = df_permutation_recommendations.append(df_temp)\n",
    "  return df_permutation_recommendations"
   ]
  },
  {
   "cell_type": "code",
   "execution_count": 236,
   "id": "82020da1",
   "metadata": {},
   "outputs": [
    {
     "data": {
      "text/plain": [
       "False"
      ]
     },
     "execution_count": 236,
     "metadata": {},
     "output_type": "execute_result"
    }
   ],
   "source": [
    "df_covisitation.shape[0] ==0 "
   ]
  },
  {
   "cell_type": "code",
   "execution_count": 231,
   "id": "0a048df3",
   "metadata": {},
   "outputs": [
    {
     "data": {
      "text/plain": [
       "False"
      ]
     },
     "execution_count": 231,
     "metadata": {},
     "output_type": "execute_result"
    }
   ],
   "source": [
    "item_bool.any()"
   ]
  },
  {
   "cell_type": "code",
   "execution_count": null,
   "id": "da642150",
   "metadata": {},
   "outputs": [],
   "source": [
    "def recommendation_seed(df_seed, G_train):\n",
    "    df_covisitation_recommendations = pd.DataFrame()\n",
    "    for user in df_seed['user_id']:\n",
    "        item_seed = df_seed.query('user_id == @user')['item_id'].values[0]\n",
    "        item_ids = recommend_neighbor_items_trained(G_train, item_seed, n=10).index\n",
    "        df_temp = pd.DataFrame()\n",
    "        df_temp['recommendation'] = item_ids\n",
    "        df_temp['user_id'] = user\n",
    "        df_temp['item_seed'] = item_seed\n",
    "        df_covisitation_recommendations = df_covisitation_recommendations.append(df_temp)\n",
    "        \n",
    "    return df_covisitation_recommendations"
   ]
  },
  {
   "cell_type": "markdown",
   "id": "09c43b16",
   "metadata": {},
   "source": [
    "# Métricas"
   ]
  },
  {
   "cell_type": "markdown",
   "id": "d73acd2c",
   "metadata": {},
   "source": [
    "## Covisitation"
   ]
  },
  {
   "cell_type": "code",
   "execution_count": 37,
   "id": "0cd921ad",
   "metadata": {},
   "outputs": [],
   "source": [
    "df_covisitation_recommendation = pd.DataFrame()\n",
    "app = base['id_aplicativo'].unique()\n",
    "app.sort()\n",
    "\n",
    "# Rodar o modelo para todos os app do dataset\n",
    "for i in app:\n",
    "    if base.loc[base['id_aplicativo'] == i].shape[0] >= 500:\n",
    "        df = base.loc[base['id_aplicativo'] == i]\n",
    "        df = df[['id_aplicativo', 'id_compra', 'Date', 'user_id', 'quantidade', 'item_id']]\n",
    "        NumProduto, totalFreq, FreqCompra, dfProduto, df_covisitation, user_list = base_tratatives(df)\n",
    "\n",
    "        df_test_covisitation = test_df(df_covisitation, user_list)\n",
    "        df_train_covisitation = df_covisitation.drop(df_test_covisitation.index ,axis = 0)\n",
    "        item_seed_df = item_seed(df_train_covisitation, user_list)\n",
    "        user_list = df_train_covisitation['user_id'].unique()\n",
    "        df_seed = item_seed(df_train_covisitation, user_list)\n",
    "\n",
    "        G_train = grafos_trained(df_train_covisitation)\n",
    "\n",
    "        df_covisitation_recommendation_temp = recommendation_seed(df_seed, G_train)\n",
    "        df_covisitation_recommendation_temp = explosion(df_covisitation_recommendation_temp, df_test_covisitation)\n",
    "        df_covisitation_recommendation_temp['id'] = i\n",
    "        df_covisitation_recommendation_temp['assertividade'] = df_covisitation_recommendation_temp['true'].sum()/df_covisitation_recommendation_temp['true'].count()\n",
    "        flat_recommendations = [item for sublist in df_covisitation_recommendation_temp['recommendation'] for item in sublist]\n",
    "        df_covisitation_recommendation_temp['cobertura'] = len(set(flat_recommendations)) / len(pd.DataFrame(dfProduto['item_id'].unique()))\n",
    "\n",
    "        df_covisitation_recommendation = df_covisitation_recommendation.append(df_covisitation_recommendation_temp)\n",
    "    "
   ]
  },
  {
   "cell_type": "code",
   "execution_count": 38,
   "id": "1cd129c4",
   "metadata": {},
   "outputs": [],
   "source": [
    "# df_covisitation_recommendation.to_excel('covisitation_todos_app.xlsx')"
   ]
  },
  {
   "cell_type": "code",
   "execution_count": 39,
   "id": "868944b7",
   "metadata": {},
   "outputs": [],
   "source": [
    "# df_covisitation_recommendation = pd.read_excel('covisitation_todos_app.xlsx')"
   ]
  },
  {
   "cell_type": "markdown",
   "id": "bda99d26",
   "metadata": {},
   "source": [
    "Assertividade"
   ]
  },
  {
   "cell_type": "code",
   "execution_count": 40,
   "id": "c3d6d733",
   "metadata": {},
   "outputs": [
    {
     "data": {
      "text/html": [
       "<div>\n",
       "<style scoped>\n",
       "    .dataframe tbody tr th:only-of-type {\n",
       "        vertical-align: middle;\n",
       "    }\n",
       "\n",
       "    .dataframe tbody tr th {\n",
       "        vertical-align: top;\n",
       "    }\n",
       "\n",
       "    .dataframe thead th {\n",
       "        text-align: right;\n",
       "    }\n",
       "</style>\n",
       "<table border=\"1\" class=\"dataframe\">\n",
       "  <thead>\n",
       "    <tr style=\"text-align: right;\">\n",
       "      <th></th>\n",
       "      <th>assertividade</th>\n",
       "    </tr>\n",
       "    <tr>\n",
       "      <th>id</th>\n",
       "      <th></th>\n",
       "    </tr>\n",
       "  </thead>\n",
       "  <tbody>\n",
       "    <tr>\n",
       "      <th>6</th>\n",
       "      <td>0.940678</td>\n",
       "    </tr>\n",
       "    <tr>\n",
       "      <th>29</th>\n",
       "      <td>0.912406</td>\n",
       "    </tr>\n",
       "    <tr>\n",
       "      <th>112</th>\n",
       "      <td>0.900524</td>\n",
       "    </tr>\n",
       "    <tr>\n",
       "      <th>107</th>\n",
       "      <td>0.835821</td>\n",
       "    </tr>\n",
       "    <tr>\n",
       "      <th>9</th>\n",
       "      <td>0.792000</td>\n",
       "    </tr>\n",
       "  </tbody>\n",
       "</table>\n",
       "</div>"
      ],
      "text/plain": [
       "     assertividade\n",
       "id                \n",
       "6         0.940678\n",
       "29        0.912406\n",
       "112       0.900524\n",
       "107       0.835821\n",
       "9         0.792000"
      ]
     },
     "execution_count": 40,
     "metadata": {},
     "output_type": "execute_result"
    }
   ],
   "source": [
    "assertividade_id_cov = df_covisitation_recommendation.groupby('id').mean('assertividade').reset_index()[['id', 'assertividade']].sort_values('assertividade', ascending = False).set_index('id')\n",
    "assertividade_id_cov.head()"
   ]
  },
  {
   "cell_type": "code",
   "execution_count": 161,
   "id": "21b4d158",
   "metadata": {},
   "outputs": [
    {
     "data": {
      "text/plain": [
       "[]"
      ]
     },
     "execution_count": 161,
     "metadata": {},
     "output_type": "execute_result"
    },
    {
     "data": {
      "image/png": "[encoded data removed]",
      "text/plain": [
       "<Figure size 1000x800 with 1 Axes>"
      ]
     },
     "metadata": {},
     "output_type": "display_data"
    }
   ],
   "source": [
    "# Assertividade por App\n",
    "\n",
    "fig = plt.figure(figsize=(10, 8))\n",
    "assertividade_id_cov['assertividade'].head(10).plot(kind='bar', color = 'blue')\n",
    "plt.title('Assertividade por Aplicativo')\n",
    "plt.xlabel('Id do aplicativo')\n",
    "plt.ylabel('Assertividade')\n",
    "plt.plot()"
   ]
  },
  {
   "cell_type": "code",
   "execution_count": 42,
   "id": "d6c36972",
   "metadata": {},
   "outputs": [
    {
     "name": "stdout",
     "output_type": "stream",
     "text": [
      "60% de Assertividade Média\n"
     ]
    }
   ],
   "source": [
    "print(f'{round(np.mean(assertividade_id_cov[\"assertividade\"])*100)}% de Assertividade Média')"
   ]
  },
  {
   "cell_type": "markdown",
   "id": "4f5896dc",
   "metadata": {},
   "source": [
    "Cobertura"
   ]
  },
  {
   "cell_type": "code",
   "execution_count": 43,
   "id": "aa9a459c",
   "metadata": {},
   "outputs": [
    {
     "data": {
      "text/html": [
       "<div>\n",
       "<style scoped>\n",
       "    .dataframe tbody tr th:only-of-type {\n",
       "        vertical-align: middle;\n",
       "    }\n",
       "\n",
       "    .dataframe tbody tr th {\n",
       "        vertical-align: top;\n",
       "    }\n",
       "\n",
       "    .dataframe thead th {\n",
       "        text-align: right;\n",
       "    }\n",
       "</style>\n",
       "<table border=\"1\" class=\"dataframe\">\n",
       "  <thead>\n",
       "    <tr style=\"text-align: right;\">\n",
       "      <th></th>\n",
       "      <th>cobertura</th>\n",
       "    </tr>\n",
       "    <tr>\n",
       "      <th>id</th>\n",
       "      <th></th>\n",
       "    </tr>\n",
       "  </thead>\n",
       "  <tbody>\n",
       "    <tr>\n",
       "      <th>49</th>\n",
       "      <td>0.956522</td>\n",
       "    </tr>\n",
       "    <tr>\n",
       "      <th>112</th>\n",
       "      <td>0.909091</td>\n",
       "    </tr>\n",
       "    <tr>\n",
       "      <th>62</th>\n",
       "      <td>0.875000</td>\n",
       "    </tr>\n",
       "    <tr>\n",
       "      <th>107</th>\n",
       "      <td>0.870370</td>\n",
       "    </tr>\n",
       "    <tr>\n",
       "      <th>80</th>\n",
       "      <td>0.868852</td>\n",
       "    </tr>\n",
       "  </tbody>\n",
       "</table>\n",
       "</div>"
      ],
      "text/plain": [
       "     cobertura\n",
       "id            \n",
       "49    0.956522\n",
       "112   0.909091\n",
       "62    0.875000\n",
       "107   0.870370\n",
       "80    0.868852"
      ]
     },
     "execution_count": 43,
     "metadata": {},
     "output_type": "execute_result"
    }
   ],
   "source": [
    "cobertura_id_cov = df_covisitation_recommendation.groupby('id').mean('cobertura').reset_index()[['id', 'cobertura']].sort_values('cobertura', ascending = False).set_index('id')\n",
    "cobertura_id_cov.head()"
   ]
  },
  {
   "cell_type": "code",
   "execution_count": 160,
   "id": "05170249",
   "metadata": {},
   "outputs": [
    {
     "data": {
      "text/plain": [
       "[]"
      ]
     },
     "execution_count": 160,
     "metadata": {},
     "output_type": "execute_result"
    },
    {
     "data": {
      "image/png": "[encoded data removed]",
      "text/plain": [
       "<Figure size 1000x800 with 1 Axes>"
      ]
     },
     "metadata": {},
     "output_type": "display_data"
    }
   ],
   "source": [
    "# Cobertura por App\n",
    "\n",
    "fig = plt.figure(figsize=(10, 8))\n",
    "cobertura_id_cov['cobertura'].head(10).plot(kind='bar', color = 'blue')\n",
    "plt.title('Cobertura por Aplicativo')\n",
    "plt.xlabel('Id do aplicativo')\n",
    "plt.ylabel('Cobertura')\n",
    "plt.plot()"
   ]
  },
  {
   "cell_type": "code",
   "execution_count": 45,
   "id": "2eb39299",
   "metadata": {},
   "outputs": [
    {
     "name": "stdout",
     "output_type": "stream",
     "text": [
      "12% de Cobertura Média\n"
     ]
    }
   ],
   "source": [
    "print(f'{round(np.mean(cobertura_id[\"cobertura\"])*100)}% de Cobertura Média')"
   ]
  },
  {
   "cell_type": "markdown",
   "id": "9eef5a50",
   "metadata": {},
   "source": [
    "## Combinação 2 a 2 "
   ]
  },
  {
   "cell_type": "code",
   "execution_count": 252,
   "id": "0a2276fb",
   "metadata": {},
   "outputs": [],
   "source": [
    "df_combination_recommendation = pd.DataFrame()\n",
    "app = base['id_aplicativo'].unique()\n",
    "app.sort()\n",
    "\n",
    "# Rodar o modelo para todos os app do dataset\n",
    "for i in app:\n",
    "    if base.loc[base['id_aplicativo'] == i].shape[0] >= 500:\n",
    "        df = base.loc[base['id_aplicativo'] == i]\n",
    "        df = df[['id_aplicativo', 'id_compra', 'Date', 'user_id', 'quantidade', 'item_id']]\n",
    "        NumProduto, totalFreq, FreqCompra, dfProduto, df_combination, user_list = base_tratatives(df)\n",
    "\n",
    "        df_test_combination = test_df(df_combination, user_list)\n",
    "        df_train_combination = df_combination.drop(df_test_combination.index ,axis = 0)\n",
    "        item_seed_df = item_seed(df_train_combination, user_list)\n",
    "        user_list = df_train_combination['user_id'].unique()\n",
    "        df_seed = item_seed(df_train_combination, user_list)\n",
    "\n",
    "        item_combinations = combinacao(df_train_combination)\n",
    "\n",
    "        df_combination_recommendation_temp = recommendation_permutation(df_seed, item_combinations)\n",
    "\n",
    "        df_combination_recommendation_temp = explosion(df_combination_recommendation_temp, df_test_combination)\n",
    "        df_combination_recommendation_temp['id'] = i\n",
    "        df_combination_recommendation_temp['assertividade'] = df_combination_recommendation_temp['true'].sum()/df_combination_recommendation_temp['true'].count()\n",
    "        flat_recommendations = [item for sublist in df_combination_recommendation_temp['recommendation'] for item in sublist]\n",
    "        df_combination_recommendation_temp['cobertura'] = len(set(flat_recommendations)) / len(pd.DataFrame(dfProduto['item_id'].unique()))\n",
    "\n",
    "        df_combination_recommendation = df_combination_recommendation.append(df_combination_recommendation_temp)"
   ]
  },
  {
   "cell_type": "code",
   "execution_count": 253,
   "id": "6ce3a541",
   "metadata": {},
   "outputs": [
    {
     "data": {
      "text/html": [
       "<div>\n",
       "<style scoped>\n",
       "    .dataframe tbody tr th:only-of-type {\n",
       "        vertical-align: middle;\n",
       "    }\n",
       "\n",
       "    .dataframe tbody tr th {\n",
       "        vertical-align: top;\n",
       "    }\n",
       "\n",
       "    .dataframe thead th {\n",
       "        text-align: right;\n",
       "    }\n",
       "</style>\n",
       "<table border=\"1\" class=\"dataframe\">\n",
       "  <thead>\n",
       "    <tr style=\"text-align: right;\">\n",
       "      <th></th>\n",
       "      <th>assertividade</th>\n",
       "    </tr>\n",
       "    <tr>\n",
       "      <th>id</th>\n",
       "      <th></th>\n",
       "    </tr>\n",
       "  </thead>\n",
       "  <tbody>\n",
       "    <tr>\n",
       "      <th>6</th>\n",
       "      <td>0.963636</td>\n",
       "    </tr>\n",
       "    <tr>\n",
       "      <th>29</th>\n",
       "      <td>0.900398</td>\n",
       "    </tr>\n",
       "    <tr>\n",
       "      <th>112</th>\n",
       "      <td>0.816754</td>\n",
       "    </tr>\n",
       "    <tr>\n",
       "      <th>107</th>\n",
       "      <td>0.777778</td>\n",
       "    </tr>\n",
       "    <tr>\n",
       "      <th>4</th>\n",
       "      <td>0.755694</td>\n",
       "    </tr>\n",
       "  </tbody>\n",
       "</table>\n",
       "</div>"
      ],
      "text/plain": [
       "     assertividade\n",
       "id                \n",
       "6         0.963636\n",
       "29        0.900398\n",
       "112       0.816754\n",
       "107       0.777778\n",
       "4         0.755694"
      ]
     },
     "execution_count": 253,
     "metadata": {},
     "output_type": "execute_result"
    }
   ],
   "source": [
    "assertividade_id_c22 = df_combination_recommendation.groupby('id').mean('assertividade').reset_index()[['id', 'assertividade']].sort_values('assertividade', ascending = False).set_index('id')\n",
    "assertividade_id_c22.head()"
   ]
  },
  {
   "cell_type": "code",
   "execution_count": 254,
   "id": "81148b32",
   "metadata": {},
   "outputs": [
    {
     "data": {
      "text/plain": [
       "[]"
      ]
     },
     "execution_count": 254,
     "metadata": {},
     "output_type": "execute_result"
    },
    {
     "data": {
      "image/png": "[encoded data removed]",
      "text/plain": [
       "<Figure size 1000x800 with 1 Axes>"
      ]
     },
     "metadata": {},
     "output_type": "display_data"
    }
   ],
   "source": [
    "# Assertividade por App\n",
    "\n",
    "fig = plt.figure(figsize=(10, 8))\n",
    "assertividade_id_c22['assertividade'].head(10).plot(kind='bar', color = 'blue')\n",
    "plt.title('Assertividade por Aplicativo')\n",
    "plt.xlabel('Id do aplicativo')\n",
    "plt.ylabel('Assertividade')\n",
    "plt.plot()"
   ]
  },
  {
   "cell_type": "code",
   "execution_count": 255,
   "id": "d7109e40",
   "metadata": {},
   "outputs": [
    {
     "name": "stdout",
     "output_type": "stream",
     "text": [
      "61% de Assertividade Média\n"
     ]
    }
   ],
   "source": [
    "print(f'{round(np.mean(assertividade_id_c22[\"assertividade\"])*100)}% de Assertividade Média')"
   ]
  },
  {
   "cell_type": "markdown",
   "id": "1a7d032e",
   "metadata": {},
   "source": [
    "Cobertura"
   ]
  },
  {
   "cell_type": "code",
   "execution_count": 261,
   "id": "0d04308a",
   "metadata": {},
   "outputs": [
    {
     "data": {
      "text/html": [
       "<div>\n",
       "<style scoped>\n",
       "    .dataframe tbody tr th:only-of-type {\n",
       "        vertical-align: middle;\n",
       "    }\n",
       "\n",
       "    .dataframe tbody tr th {\n",
       "        vertical-align: top;\n",
       "    }\n",
       "\n",
       "    .dataframe thead th {\n",
       "        text-align: right;\n",
       "    }\n",
       "</style>\n",
       "<table border=\"1\" class=\"dataframe\">\n",
       "  <thead>\n",
       "    <tr style=\"text-align: right;\">\n",
       "      <th></th>\n",
       "      <th>cobertura</th>\n",
       "    </tr>\n",
       "    <tr>\n",
       "      <th>id</th>\n",
       "      <th></th>\n",
       "    </tr>\n",
       "  </thead>\n",
       "  <tbody>\n",
       "    <tr>\n",
       "      <th>112</th>\n",
       "      <td>0.909091</td>\n",
       "    </tr>\n",
       "    <tr>\n",
       "      <th>49</th>\n",
       "      <td>0.869565</td>\n",
       "    </tr>\n",
       "    <tr>\n",
       "      <th>99</th>\n",
       "      <td>0.771605</td>\n",
       "    </tr>\n",
       "    <tr>\n",
       "      <th>62</th>\n",
       "      <td>0.750000</td>\n",
       "    </tr>\n",
       "    <tr>\n",
       "      <th>107</th>\n",
       "      <td>0.740741</td>\n",
       "    </tr>\n",
       "  </tbody>\n",
       "</table>\n",
       "</div>"
      ],
      "text/plain": [
       "     cobertura\n",
       "id            \n",
       "112   0.909091\n",
       "49    0.869565\n",
       "99    0.771605\n",
       "62    0.750000\n",
       "107   0.740741"
      ]
     },
     "execution_count": 261,
     "metadata": {},
     "output_type": "execute_result"
    }
   ],
   "source": [
    "cobertura_id_c22 = df_combination_recommendation.groupby('id').mean('cobertura').reset_index()[['id', 'cobertura']].sort_values('cobertura', ascending = False).set_index('id')\n",
    "cobertura_id_c22.head()"
   ]
  },
  {
   "cell_type": "code",
   "execution_count": 262,
   "id": "cd10bbc9",
   "metadata": {},
   "outputs": [
    {
     "data": {
      "text/plain": [
       "[]"
      ]
     },
     "execution_count": 262,
     "metadata": {},
     "output_type": "execute_result"
    },
    {
     "data": {
      "image/png": "[encoded data removed]",
      "text/plain": [
       "<Figure size 1000x800 with 1 Axes>"
      ]
     },
     "metadata": {},
     "output_type": "display_data"
    }
   ],
   "source": [
    "# Cobertura por App\n",
    "\n",
    "fig = plt.figure(figsize=(10, 8))\n",
    "cobertura_id_c22['cobertura'].head(10).plot(kind='bar', color = 'blue')\n",
    "plt.title('Cobertura por Aplicativo')\n",
    "plt.xlabel('Id do aplicativo')\n",
    "plt.ylabel('Cobertura')\n",
    "plt.plot()"
   ]
  },
  {
   "cell_type": "code",
   "execution_count": 263,
   "id": "208e3a03",
   "metadata": {},
   "outputs": [
    {
     "name": "stdout",
     "output_type": "stream",
     "text": [
      "12% de Cobertura Média\n"
     ]
    }
   ],
   "source": [
    "print(f'{round(np.mean(cobertura_id[\"cobertura\"])*100)}% de Cobertura Média')"
   ]
  },
  {
   "cell_type": "markdown",
   "id": "b8ce4e89",
   "metadata": {},
   "source": [
    "## TOP N"
   ]
  },
  {
   "cell_type": "code",
   "execution_count": 46,
   "id": "f254e19e",
   "metadata": {},
   "outputs": [],
   "source": [
    "df_top_recommendation_app = pd.DataFrame()\n",
    "app = base['id_aplicativo'].unique()\n",
    "app.sort()\n",
    "\n",
    "for i in app:\n",
    "    if base.loc[base['id_aplicativo'] == i].shape[0] >= 500:\n",
    "        df = base.loc[base['id_aplicativo'] == i]\n",
    "        df_top_consumptions = recommend_top_n_consumptions(df, n = 10)\n",
    "        \n",
    "        NumProduto, totalFreq, FreqCompra, dfProduto, df_covisitation, user_list = base_tratatives(df)\n",
    "\n",
    "        df_test_covisitation = test_df(df_covisitation, user_list)\n",
    "        df_train_covisitation = df_covisitation.drop(df_test_covisitation.index ,axis = 0)\n",
    "\n",
    "        user_list = df_train_covisitation['user_id'].unique()\n",
    "        df_seed = item_seed(df_train_covisitation, user_list)\n",
    "        \n",
    "        df_top_recommendations = recommendation_top(df_seed, df_top_consumptions)\n",
    "\n",
    "        df_top_recommendation = df_top_recommendations.groupby('user_id').agg({'recommendation': list}).reset_index(drop=False)\n",
    "        df_top_recommendation = df_top_recommendation.merge(df_test_covisitation[['user_id', 'item_id']], on = 'user_id', how = 'left')\n",
    "        explode = df_top_recommendation.explode('recommendation').reset_index(drop = True)\n",
    "        \n",
    "        explode['true'] = 0\n",
    "        for index in explode.index:\n",
    "            if explode['recommendation'][index] == explode['item_id'][index]:\n",
    "                explode['true'][index] = 1\n",
    "        \n",
    "        df_top_recommendation_temp = explode.groupby(['user_id', 'item_id']).agg({'recommendation': list, 'true': sum}).reset_index(drop=False)\n",
    "        df_top_recommendation_temp['id'] = i\n",
    "        df_top_recommendation_temp['assertividade'] = df_top_recommendation_temp['true'].sum()/df_top_recommendation_temp['true'].count()\n",
    "        flat_recommendations = [item for sublist in df_top_recommendation_temp['recommendation'] for item in sublist]\n",
    "        df_top_recommendation_temp['cobertura'] = len(set(flat_recommendations)) / len(pd.DataFrame(dfProduto['item_id'].unique()))\n",
    "\n",
    "        df_top_recommendation_app = df_top_recommendation_app.append(df_top_recommendation_temp)"
   ]
  },
  {
   "cell_type": "code",
   "execution_count": 47,
   "id": "f7734075",
   "metadata": {},
   "outputs": [],
   "source": [
    "# df_top_recommendation_app.to_excel('topn_todos_app.xlsx')"
   ]
  },
  {
   "cell_type": "code",
   "execution_count": 48,
   "id": "bdc3e5bd",
   "metadata": {},
   "outputs": [
    {
     "data": {
      "text/html": [
       "<div>\n",
       "<style scoped>\n",
       "    .dataframe tbody tr th:only-of-type {\n",
       "        vertical-align: middle;\n",
       "    }\n",
       "\n",
       "    .dataframe tbody tr th {\n",
       "        vertical-align: top;\n",
       "    }\n",
       "\n",
       "    .dataframe thead th {\n",
       "        text-align: right;\n",
       "    }\n",
       "</style>\n",
       "<table border=\"1\" class=\"dataframe\">\n",
       "  <thead>\n",
       "    <tr style=\"text-align: right;\">\n",
       "      <th></th>\n",
       "      <th>assertividade</th>\n",
       "    </tr>\n",
       "    <tr>\n",
       "      <th>id</th>\n",
       "      <th></th>\n",
       "    </tr>\n",
       "  </thead>\n",
       "  <tbody>\n",
       "    <tr>\n",
       "      <th>6</th>\n",
       "      <td>0.983051</td>\n",
       "    </tr>\n",
       "    <tr>\n",
       "      <th>29</th>\n",
       "      <td>0.895759</td>\n",
       "    </tr>\n",
       "    <tr>\n",
       "      <th>112</th>\n",
       "      <td>0.874346</td>\n",
       "    </tr>\n",
       "    <tr>\n",
       "      <th>15</th>\n",
       "      <td>0.814815</td>\n",
       "    </tr>\n",
       "    <tr>\n",
       "      <th>75</th>\n",
       "      <td>0.720588</td>\n",
       "    </tr>\n",
       "  </tbody>\n",
       "</table>\n",
       "</div>"
      ],
      "text/plain": [
       "     assertividade\n",
       "id                \n",
       "6         0.983051\n",
       "29        0.895759\n",
       "112       0.874346\n",
       "15        0.814815\n",
       "75        0.720588"
      ]
     },
     "execution_count": 48,
     "metadata": {},
     "output_type": "execute_result"
    }
   ],
   "source": [
    "assertividade_id_top = df_top_recommendation_app.groupby('id').mean('assertividade').reset_index()[['id', 'assertividade']].sort_values('assertividade', ascending = False).set_index('id')\n",
    "assertividade_id_top.head()"
   ]
  },
  {
   "cell_type": "code",
   "execution_count": 152,
   "id": "5902083c",
   "metadata": {},
   "outputs": [],
   "source": [
    "plt.style.use('dark_background')"
   ]
  },
  {
   "cell_type": "code",
   "execution_count": 154,
   "id": "d3bd2718",
   "metadata": {},
   "outputs": [
    {
     "data": {
      "text/plain": [
       "[]"
      ]
     },
     "execution_count": 154,
     "metadata": {},
     "output_type": "execute_result"
    },
    {
     "data": {
      "image/png": "[encoded data removed]",
      "text/plain": [
       "<Figure size 1000x800 with 1 Axes>"
      ]
     },
     "metadata": {},
     "output_type": "display_data"
    }
   ],
   "source": [
    "# Assertividade por App\n",
    "\n",
    "fig = plt.figure(figsize=(10, 8))\n",
    "assertividade_id_top['assertividade'].head(10).plot(kind='bar', color = 'blue')\n",
    "plt.title('Assertividade por Aplicativo')\n",
    "plt.xlabel('Id do aplicativo')\n",
    "plt.ylabel('Assertividade')\n",
    "plt.plot()"
   ]
  },
  {
   "cell_type": "code",
   "execution_count": 50,
   "id": "a555e319",
   "metadata": {},
   "outputs": [
    {
     "name": "stdout",
     "output_type": "stream",
     "text": [
      "56% de Assertividade Média\n"
     ]
    }
   ],
   "source": [
    "print(f'{round(np.mean(assertividade_id_top[\"assertividade\"])*100)}% de Assertividade Média')"
   ]
  },
  {
   "cell_type": "markdown",
   "id": "443db11f",
   "metadata": {},
   "source": [
    "Cobertura"
   ]
  },
  {
   "cell_type": "code",
   "execution_count": 51,
   "id": "0d306f70",
   "metadata": {},
   "outputs": [
    {
     "data": {
      "text/html": [
       "<div>\n",
       "<style scoped>\n",
       "    .dataframe tbody tr th:only-of-type {\n",
       "        vertical-align: middle;\n",
       "    }\n",
       "\n",
       "    .dataframe tbody tr th {\n",
       "        vertical-align: top;\n",
       "    }\n",
       "\n",
       "    .dataframe thead th {\n",
       "        text-align: right;\n",
       "    }\n",
       "</style>\n",
       "<table border=\"1\" class=\"dataframe\">\n",
       "  <thead>\n",
       "    <tr style=\"text-align: right;\">\n",
       "      <th></th>\n",
       "      <th>cobertura</th>\n",
       "    </tr>\n",
       "    <tr>\n",
       "      <th>id</th>\n",
       "      <th></th>\n",
       "    </tr>\n",
       "  </thead>\n",
       "  <tbody>\n",
       "    <tr>\n",
       "      <th>112</th>\n",
       "      <td>0.454545</td>\n",
       "    </tr>\n",
       "    <tr>\n",
       "      <th>50</th>\n",
       "      <td>0.263158</td>\n",
       "    </tr>\n",
       "    <tr>\n",
       "      <th>39</th>\n",
       "      <td>0.232558</td>\n",
       "    </tr>\n",
       "    <tr>\n",
       "      <th>15</th>\n",
       "      <td>0.227273</td>\n",
       "    </tr>\n",
       "    <tr>\n",
       "      <th>78</th>\n",
       "      <td>0.208333</td>\n",
       "    </tr>\n",
       "  </tbody>\n",
       "</table>\n",
       "</div>"
      ],
      "text/plain": [
       "     cobertura\n",
       "id            \n",
       "112   0.454545\n",
       "50    0.263158\n",
       "39    0.232558\n",
       "15    0.227273\n",
       "78    0.208333"
      ]
     },
     "execution_count": 51,
     "metadata": {},
     "output_type": "execute_result"
    }
   ],
   "source": [
    "cobertura_id_top = df_top_recommendation_app.groupby('id').mean('cobertura').reset_index()[['id', 'cobertura']].sort_values('cobertura', ascending = False).set_index('id')\n",
    "cobertura_id_top.head()"
   ]
  },
  {
   "cell_type": "code",
   "execution_count": 156,
   "id": "c1dc8f4d",
   "metadata": {},
   "outputs": [
    {
     "data": {
      "text/plain": [
       "[]"
      ]
     },
     "execution_count": 156,
     "metadata": {},
     "output_type": "execute_result"
    },
    {
     "data": {
      "image/png": "[encoded data removed]",
      "text/plain": [
       "<Figure size 1000x800 with 1 Axes>"
      ]
     },
     "metadata": {},
     "output_type": "display_data"
    }
   ],
   "source": [
    "# Cobertura por App\n",
    "\n",
    "fig = plt.figure(figsize=(10, 8))\n",
    "cobertura_id_top['cobertura'].head(10).plot(kind='bar', color = 'blue')\n",
    "plt.title('Cobertura por Aplicativo')\n",
    "plt.xlabel('Id do aplicativo')\n",
    "plt.ylabel('Cobertura')\n",
    "plt.plot()"
   ]
  },
  {
   "cell_type": "code",
   "execution_count": 53,
   "id": "76a9b78a",
   "metadata": {},
   "outputs": [
    {
     "name": "stdout",
     "output_type": "stream",
     "text": [
      "12% de Cobertura Média\n"
     ]
    }
   ],
   "source": [
    "print(f'{round(np.mean(cobertura_id[\"cobertura\"])*100)}% de Cobertura Média')"
   ]
  },
  {
   "cell_type": "markdown",
   "id": "799e7d14",
   "metadata": {},
   "source": [
    "## Quantidade de Itens diferentes por app"
   ]
  },
  {
   "cell_type": "code",
   "execution_count": 54,
   "id": "864294c5",
   "metadata": {},
   "outputs": [],
   "source": [
    "lista_app = base['id_aplicativo'].unique()\n",
    "quantidade_itens = pd.DataFrame()\n",
    "quantidade_itens['id_aplicativo'] = lista_app\n",
    "df_temp = pd.DataFrame()\n",
    "quantidade = list()\n",
    "\n",
    "for i in lista_app:\n",
    "    temp = base.query('id_aplicativo == @i')\n",
    "    quantidade.append(temp['item_id'].nunique())\n",
    "\n",
    "quantidade_itens['quantidade_itens'] = quantidade\n",
    "quantidade_itens = quantidade_itens.sort_values('quantidade_itens', ascending= False).set_index('id_aplicativo')"
   ]
  },
  {
   "cell_type": "code",
   "execution_count": 55,
   "id": "afbb6202",
   "metadata": {},
   "outputs": [
    {
     "data": {
      "text/html": [
       "<div>\n",
       "<style scoped>\n",
       "    .dataframe tbody tr th:only-of-type {\n",
       "        vertical-align: middle;\n",
       "    }\n",
       "\n",
       "    .dataframe tbody tr th {\n",
       "        vertical-align: top;\n",
       "    }\n",
       "\n",
       "    .dataframe thead th {\n",
       "        text-align: right;\n",
       "    }\n",
       "</style>\n",
       "<table border=\"1\" class=\"dataframe\">\n",
       "  <thead>\n",
       "    <tr style=\"text-align: right;\">\n",
       "      <th></th>\n",
       "      <th>quantidade_itens</th>\n",
       "    </tr>\n",
       "    <tr>\n",
       "      <th>id_aplicativo</th>\n",
       "      <th></th>\n",
       "    </tr>\n",
       "  </thead>\n",
       "  <tbody>\n",
       "    <tr>\n",
       "      <th>5</th>\n",
       "      <td>502</td>\n",
       "    </tr>\n",
       "    <tr>\n",
       "      <th>116</th>\n",
       "      <td>284</td>\n",
       "    </tr>\n",
       "    <tr>\n",
       "      <th>94</th>\n",
       "      <td>277</td>\n",
       "    </tr>\n",
       "    <tr>\n",
       "      <th>82</th>\n",
       "      <td>261</td>\n",
       "    </tr>\n",
       "    <tr>\n",
       "      <th>106</th>\n",
       "      <td>257</td>\n",
       "    </tr>\n",
       "  </tbody>\n",
       "</table>\n",
       "</div>"
      ],
      "text/plain": [
       "               quantidade_itens\n",
       "id_aplicativo                  \n",
       "5                           502\n",
       "116                         284\n",
       "94                          277\n",
       "82                          261\n",
       "106                         257"
      ]
     },
     "execution_count": 55,
     "metadata": {},
     "output_type": "execute_result"
    }
   ],
   "source": [
    "quantidade_itens.head()"
   ]
  },
  {
   "cell_type": "code",
   "execution_count": 158,
   "id": "b7b39744",
   "metadata": {},
   "outputs": [
    {
     "data": {
      "text/plain": [
       "[]"
      ]
     },
     "execution_count": 158,
     "metadata": {},
     "output_type": "execute_result"
    },
    {
     "data": {
      "image/png": "[encoded data removed]",
      "text/plain": [
       "<Figure size 1000x800 with 1 Axes>"
      ]
     },
     "metadata": {},
     "output_type": "display_data"
    }
   ],
   "source": [
    "# Número de itens diferentes por App\n",
    "\n",
    "fig = plt.figure(figsize=(10, 8))\n",
    "quantidade_itens['quantidade_itens'].head(10).plot(kind='bar', color = 'blue')\n",
    "plt.title('Produtos diferentes por Aplicativo')\n",
    "plt.xlabel('Id do aplicativo')\n",
    "plt.plot()"
   ]
  },
  {
   "cell_type": "markdown",
   "id": "7afdba94",
   "metadata": {},
   "source": [
    "## Comparação"
   ]
  },
  {
   "cell_type": "code",
   "execution_count": 272,
   "id": "56991ac0",
   "metadata": {},
   "outputs": [
    {
     "data": {
      "text/html": [
       "<div>\n",
       "<style scoped>\n",
       "    .dataframe tbody tr th:only-of-type {\n",
       "        vertical-align: middle;\n",
       "    }\n",
       "\n",
       "    .dataframe tbody tr th {\n",
       "        vertical-align: top;\n",
       "    }\n",
       "\n",
       "    .dataframe thead th {\n",
       "        text-align: right;\n",
       "    }\n",
       "</style>\n",
       "<table border=\"1\" class=\"dataframe\">\n",
       "  <thead>\n",
       "    <tr style=\"text-align: right;\">\n",
       "      <th></th>\n",
       "      <th>Assertividade (%)</th>\n",
       "      <th>Cobertura (%)</th>\n",
       "    </tr>\n",
       "    <tr>\n",
       "      <th>Modelo</th>\n",
       "      <th></th>\n",
       "      <th></th>\n",
       "    </tr>\n",
       "  </thead>\n",
       "  <tbody>\n",
       "    <tr>\n",
       "      <th>Top N</th>\n",
       "      <td>56</td>\n",
       "      <td>12</td>\n",
       "    </tr>\n",
       "    <tr>\n",
       "      <th>Covisitation</th>\n",
       "      <td>60</td>\n",
       "      <td>77</td>\n",
       "    </tr>\n",
       "    <tr>\n",
       "      <th>Combinação 2 a 2</th>\n",
       "      <td>61</td>\n",
       "      <td>12</td>\n",
       "    </tr>\n",
       "  </tbody>\n",
       "</table>\n",
       "</div>"
      ],
      "text/plain": [
       "                  Assertividade (%)  Cobertura (%)\n",
       "Modelo                                            \n",
       "Top N                            56             12\n",
       "Covisitation                     60             77\n",
       "Combinação 2 a 2                 61             12"
      ]
     },
     "execution_count": 272,
     "metadata": {},
     "output_type": "execute_result"
    }
   ],
   "source": [
    "dict = {'Modelo': ['Top N', 'Covisitation', 'Combinação 2 a 2'], 'Assertividade (%)': [56, 60, 61], 'Cobertura (%)':[12, 77, 12]}\n",
    "metricas_finais = pd.DataFrame(dict).set_index('Modelo')\n",
    "metricas_finais"
   ]
  }
 ],
 "metadata": {
  "kernelspec": {
   "display_name": "Python 3 (ipykernel)",
   "language": "python",
   "name": "python3"
  },
  "language_info": {
   "codemirror_mode": {
    "name": "ipython",
    "version": 3
   },
   "file_extension": ".py",
   "mimetype": "text/x-python",
   "name": "python",
   "nbconvert_exporter": "python",
   "pygments_lexer": "ipython3",
   "version": "3.9.16"
  }
 },
 "nbformat": 4,
 "nbformat_minor": 5
}
